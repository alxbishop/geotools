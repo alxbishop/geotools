{
 "cells": [
  {
   "cell_type": "code",
   "execution_count": 1,
   "id": "5724a499-be48-455b-828b-a74bf0b861b1",
   "metadata": {},
   "outputs": [],
   "source": [
    "aoi_sqkm = 100"
   ]
  },
  {
   "cell_type": "code",
   "execution_count": 2,
   "id": "15d413f5-5686-4f82-9a78-7494234c6d0b",
   "metadata": {},
   "outputs": [],
   "source": [
    "def credit_estimate_PHR_download(aoi_sqkm):\n",
    "    # phr mono 1000 credits per sqkm\n",
    "    estimate = 1000 * aoi_sqkm\n",
    "    \n",
    "    return print(f\"Pleiades Download data: \\n credits {estimate} (${estimate*0.01})\")\n",
    "\n",
    "def credit_estimate_SPOT_downlaod(aoi_sqkm):\n",
    "    # spot mono 380 credits per sqkm\n",
    "    estimate = 380 * aoi_sqkm\n",
    "    \n",
    "    return print(f\"Spot Download data: \\n credits {estimate} (${estimate*0.01})\")\n"
   ]
  },
  {
   "cell_type": "code",
   "execution_count": 3,
   "id": "4575df18-e8c3-42a7-8c10-74202f98bf95",
   "metadata": {},
   "outputs": [
    {
     "name": "stdout",
     "output_type": "stream",
     "text": [
      "Pleiades Download data: \n",
      " credits 100000 ($1000.0)\n"
     ]
    }
   ],
   "source": [
    "credit_estimate_PHR_download(aoi_sqkm)"
   ]
  },
  {
   "cell_type": "code",
   "execution_count": 4,
   "id": "6fc1b5e2-8063-4b6b-9e8d-5320d64719e3",
   "metadata": {},
   "outputs": [
    {
     "name": "stdout",
     "output_type": "stream",
     "text": [
      "Spot Download data: \n",
      " credits 38000 ($380.0)\n"
     ]
    }
   ],
   "source": [
    "credit_estimate_SPOT_downlaod(aoi_sqkm)"
   ]
  },
  {
   "cell_type": "code",
   "execution_count": 7,
   "id": "95e31262-78a1-412d-8dc4-6003f7ae6cb1",
   "metadata": {},
   "outputs": [
    {
     "data": {
      "text/plain": [
       "42000.0"
      ]
     },
     "execution_count": 7,
     "metadata": {},
     "output_type": "execute_result"
    }
   ],
   "source": [
    "# Gesotore or OneAtlas price to UP42 credits\n",
    "\n",
    "quote = 420\n",
    "credits = 420/0.01\n",
    "credits"
   ]
  },
  {
   "cell_type": "code",
   "execution_count": null,
   "id": "27eca06f-f668-4692-b1e9-2685d21af89c",
   "metadata": {},
   "outputs": [],
   "source": []
  }
 ],
 "metadata": {
  "kernelspec": {
   "display_name": "Python 3 (ipykernel)",
   "language": "python",
   "name": "python3"
  },
  "language_info": {
   "codemirror_mode": {
    "name": "ipython",
    "version": 3
   },
   "file_extension": ".py",
   "mimetype": "text/x-python",
   "name": "python",
   "nbconvert_exporter": "python",
   "pygments_lexer": "ipython3",
   "version": "3.8.12"
  }
 },
 "nbformat": 4,
 "nbformat_minor": 5
}
