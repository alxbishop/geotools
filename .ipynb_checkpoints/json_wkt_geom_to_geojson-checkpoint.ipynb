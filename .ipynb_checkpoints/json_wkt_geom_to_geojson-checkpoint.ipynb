{
 "cells": [
  {
   "cell_type": "code",
   "execution_count": 53,
   "id": "064e393a-26e6-4ee6-93f5-ccba6b7ac0b0",
   "metadata": {},
   "outputs": [],
   "source": [
    "import geojson\n",
    "import json\n",
    "from shapely.geometry import shape\n",
    "from shapely.wkt import loads as wkt_loads"
   ]
  },
  {
   "cell_type": "code",
   "execution_count": 3,
   "id": "eb4bf58b-56ba-447b-916a-0d357b63ef1a",
   "metadata": {},
   "outputs": [],
   "source": [
    "json_data = './AOI_Tasking_Cities_edit (1).json'"
   ]
  },
  {
   "cell_type": "code",
   "execution_count": 4,
   "id": "91d79e88-aade-4770-a63a-2f14769ea496",
   "metadata": {},
   "outputs": [],
   "source": [
    "with open(json_data, 'r') as jd:\n",
    "    j_data = json.load(jd)"
   ]
  },
  {
   "cell_type": "code",
   "execution_count": 86,
   "id": "92d7c431-14d2-4aec-a3c8-16452cc60173",
   "metadata": {},
   "outputs": [],
   "source": [
    "for key, value in j_data.items():\n",
    "    # print(key)\n",
    "    properties = {'name': key}\n",
    "    \n",
    "    shapely_geom = wkt_loads(value)\n",
    "    geojson_geometry = shapely_geom.__geo_interface__\n",
    "    \n",
    "    feature = geojson.Feature(geometry=geojson_geometry, properties=properties)\n",
    "    \n",
    "    feature_collection = geojson.FeatureCollection([feature])\n",
    "    \n",
    "    with open(f\"AOI_{key}.geojson\", \"w\") as f:\n",
    "        geojson.dump(feature_collection, f)\n",
    "    \n"
   ]
  }
 ],
 "metadata": {
  "kernelspec": {
   "display_name": "Python 3 (ipykernel)",
   "language": "python",
   "name": "python3"
  },
  "language_info": {
   "codemirror_mode": {
    "name": "ipython",
    "version": 3
   },
   "file_extension": ".py",
   "mimetype": "text/x-python",
   "name": "python",
   "nbconvert_exporter": "python",
   "pygments_lexer": "ipython3",
   "version": "3.10.8"
  }
 },
 "nbformat": 4,
 "nbformat_minor": 5
}
