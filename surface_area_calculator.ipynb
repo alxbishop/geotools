{
 "cells": [
  {
   "cell_type": "code",
   "execution_count": 1,
   "id": "660caf76-668a-4fec-bbe3-a94f0670db0a",
   "metadata": {},
   "outputs": [],
   "source": [
    "from pathlib import Path\n",
    "import geopandas as gp\n",
    "from pyproj import CRS"
   ]
  },
  {
   "cell_type": "code",
   "execution_count": 2,
   "id": "e472fe17-22a5-4059-8385-dfa0b7fbaecf",
   "metadata": {},
   "outputs": [
    {
     "data": {
      "text/plain": [
       "<function pyproj.crs.crs.CRS.list_authority(self, auth_name: Union[str, NoneType] = None, min_confidence: int = 70) -> List[importlib._bootstrap.AuthorityMatchInfo]>"
      ]
     },
     "execution_count": 2,
     "metadata": {},
     "output_type": "execute_result"
    }
   ],
   "source": [
    "CRS.list_authority"
   ]
  },
  {
   "cell_type": "code",
   "execution_count": 14,
   "id": "ac172f48-a84b-46ca-9266-c1c2267bd860",
   "metadata": {},
   "outputs": [],
   "source": [
    "#aoi_file = Path.cwd()/'aoi'/'search_results_phr_stereo.geojson'\n",
    "aoi_file = '/Users/alex.bishop/Documents/up42/projects/ge/ge-2023-tasking/aoi-area-verification/lonestar-wgs84.geojson'\n",
    "\n",
    "# Using EPSG codes\n",
    "#reproj_crs = 102008 #32723 #102020\n",
    "\n",
    "# Search for proj4 string here https://epsg.io/102020\n",
    "# Create proj for equal area here https://projectionwizard.org/#\n",
    "\n",
    "reproj_crs = CRS.from_proj4(\"+proj=aea +lon_0=-93.2519531 +lat_1=28.5869543 +lat_2=46.7489156 +lat_0=37.667935 +datum=WGS84 +units=m +no_defs\")\n",
    "#reproj_crs = CRS.from_proj4(\"+proj=laea +lon_0=173.0126953 +lat_0=-40.8920178 +datum=WGS84 +units=m +no_defs\")\n",
    "#+proj=laea +lon_0=-53.4375 +lat_0=0 +datum=WGS84 +units=m +no_defs\n",
    "#+proj=laea +lat_0=-90 +lon_0=0 +x_0=0 +y_0=0 +datum=WGS84 +units=m +no_defs"
   ]
  },
  {
   "cell_type": "code",
   "execution_count": 15,
   "id": "42422d7c-5313-4666-b918-c36ca6990d32",
   "metadata": {},
   "outputs": [],
   "source": [
    "def calculate_area(input_file, crs):\n",
    "    \n",
    "    print(f'Reading input file {aoi_file}')\n",
    "    gpaoi = gp.read_file(input_file)\n",
    "    \n",
    "    print(f'Reprojecting to {reproj_crs}')\n",
    "    geo_reproj = gpaoi.to_crs(reproj_crs)\n",
    "    \n",
    "    print(f'Calculating')\n",
    "    sum_area = sum(geo_reproj.area/1000000)\n",
    "    area_km_rounded = round(sum_area, 2)\n",
    "    \n",
    "    print(f'Complete')\n",
    "    return {'proj_sys':geo_reproj,'area':sum_area,'rounded_area':area_km_rounded};"
   ]
  },
  {
   "cell_type": "code",
   "execution_count": 16,
   "id": "d3bfa1e3-35a4-4a60-bef2-02f6665df67d",
   "metadata": {},
   "outputs": [
    {
     "name": "stdout",
     "output_type": "stream",
     "text": [
      "Reading input file /Users/alex.bishop/Documents/up42/projects/ge/ge-2023-tasking/aoi-area-verification/lonestar-wgs84.geojson\n",
      "Reprojecting to +proj=aea +lon_0=-93.2519531 +lat_1=28.5869543 +lat_2=46.7489156 +lat_0=37.667935 +datum=WGS84 +units=m +no_defs +type=crs\n",
      "Calculating\n",
      "Complete\n"
     ]
    }
   ],
   "source": [
    "# Run function\n",
    "aoi_area = calculate_area(aoi_file, reproj_crs)"
   ]
  },
  {
   "cell_type": "code",
   "execution_count": 17,
   "id": "452dee8a-43c5-4c59-bf8e-2cac15a25364",
   "metadata": {},
   "outputs": [
    {
     "name": "stdout",
     "output_type": "stream",
     "text": [
      "AOI non-rounded surface area : 1178.075714116958 sqkm\n",
      "AOI rounded surface area : 1178.08 sqkm\n"
     ]
    }
   ],
   "source": [
    "# Results\n",
    "non_rounded_area = aoi_area['area']\n",
    "print(f'AOI non-rounded surface area : {non_rounded_area} sqkm')\n",
    "\n",
    "rounded_area = aoi_area['rounded_area']\n",
    "print(f'AOI rounded surface area : {rounded_area} sqkm')"
   ]
  },
  {
   "cell_type": "code",
   "execution_count": 24,
   "id": "8187665e-10c7-4cef-b741-0b30607f25f1",
   "metadata": {},
   "outputs": [
    {
     "data": {
      "text/plain": [
       "<Derived Projected CRS: +proj=laea +lon_0=173.0126953 +lat_0=-40.8920178 + ...>\n",
       "Name: unknown\n",
       "Axis Info [cartesian]:\n",
       "- E[east]: Easting (metre)\n",
       "- N[north]: Northing (metre)\n",
       "Area of Use:\n",
       "- undefined\n",
       "Coordinate Operation:\n",
       "- name: unknown\n",
       "- method: Lambert Azimuthal Equal Area\n",
       "Datum: World Geodetic System 1984\n",
       "- Ellipsoid: WGS 84\n",
       "- Prime Meridian: Greenwich"
      ]
     },
     "execution_count": 24,
     "metadata": {},
     "output_type": "execute_result"
    }
   ],
   "source": [
    "# CRS Info\n",
    "aoi_area['proj_sys'].crs"
   ]
  },
  {
   "cell_type": "code",
   "execution_count": 6,
   "id": "bb0e8375-fa9a-4f1b-8f67-1a1d01f125e5",
   "metadata": {},
   "outputs": [
    {
     "data": {
      "text/plain": [
       "2622.0488154180907"
      ]
     },
     "execution_count": 6,
     "metadata": {},
     "output_type": "execute_result"
    }
   ],
   "source": [
    "# From sq M to sq KM\n",
    "sq_M = 2622048815.418091\n",
    "sq_KM = sq_M/1000000\n",
    "sq_KM"
   ]
  },
  {
   "cell_type": "code",
   "execution_count": 7,
   "id": "221c2149-4189-4b8a-b31b-474d08a87cbb",
   "metadata": {},
   "outputs": [
    {
     "ename": "SyntaxError",
     "evalue": "invalid syntax (4011127957.py, line 1)",
     "output_type": "error",
     "traceback": [
      "\u001b[0;36m  File \u001b[0;32m\"/var/folders/g5/bw7fr9md22j6syzsjq2nvs5r0000gq/T/ipykernel_12131/4011127957.py\"\u001b[0;36m, line \u001b[0;32m1\u001b[0m\n\u001b[0;31m    AOI non-rounded surface area : 152590.4689607224 sqkm\u001b[0m\n\u001b[0m        ^\u001b[0m\n\u001b[0;31mSyntaxError\u001b[0m\u001b[0;31m:\u001b[0m invalid syntax\n"
     ]
    }
   ],
   "source": [
    "AOI non-rounded surface area : 152590.4689607224 sqkm\n",
    "AOI rounded surface area : 152590.0 sqkm"
   ]
  },
  {
   "cell_type": "code",
   "execution_count": null,
   "id": "122b26ac-3bb7-4307-bbba-021875576e1c",
   "metadata": {},
   "outputs": [],
   "source": []
  }
 ],
 "metadata": {
  "kernelspec": {
   "display_name": "Python 3 (ipykernel)",
   "language": "python",
   "name": "python3"
  },
  "language_info": {
   "codemirror_mode": {
    "name": "ipython",
    "version": 3
   },
   "file_extension": ".py",
   "mimetype": "text/x-python",
   "name": "python",
   "nbconvert_exporter": "python",
   "pygments_lexer": "ipython3",
   "version": "3.10.8"
  }
 },
 "nbformat": 4,
 "nbformat_minor": 5
}
