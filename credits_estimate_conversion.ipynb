{
 "cells": [
  {
   "cell_type": "code",
   "execution_count": 8,
   "id": "15d413f5-5686-4f82-9a78-7494234c6d0b",
   "metadata": {},
   "outputs": [],
   "source": [
    "def credit_estimate_PHR_download(aoi_sqkm):\n",
    "    # phr mono 1000 credits per sqkm\n",
    "    estimate = 1000 * aoi_sqkm\n",
    "    \n",
    "    return print(f\"Pleiades Download data: \\n credits {estimate} (${estimate*0.01})\")\n",
    "\n",
    "def credit_estimate_SPOT_downlaod(aoi_sqkm):\n",
    "    # spot mono 380 credits per sqkm\n",
    "    estimate = 380 * aoi_sqkm\n",
    "    \n",
    "    return print(f\"Spot Download data: \\n credits {estimate} (${estimate*0.01})\")\n",
    "\n",
    "def credit_estimate_PHR_tasking_standard(aoi_sqkm):\n",
    "    # spot mono 380 credits per sqkm\n",
    "    estimate = 1700 * aoi_sqkm\n",
    "    \n",
    "    return print(f\"Pleiades Standard Tasking: \\n credits {estimate} (${estimate*0.01})\")\n",
    "\n",
    "def credit_estimate_PHR_tasking_priority(aoi_sqkm):\n",
    "    # spot mono 380 credits per sqkm\n",
    "    estimate = 3100 * aoi_sqkm\n",
    "    \n",
    "    return print(f\"Pleiades Priority (Pro) Tasking: \\n credits {estimate} (${estimate*0.01})\")"
   ]
  },
  {
   "cell_type": "code",
   "execution_count": 10,
   "id": "5724a499-be48-455b-828b-a74bf0b861b1",
   "metadata": {},
   "outputs": [],
   "source": [
    "aoi_sqkm = 115"
   ]
  },
  {
   "cell_type": "code",
   "execution_count": 6,
   "id": "4575df18-e8c3-42a7-8c10-74202f98bf95",
   "metadata": {},
   "outputs": [
    {
     "name": "stdout",
     "output_type": "stream",
     "text": [
      "Pleiades Priority (Pro) Tasking: \n",
      " credits 310000 ($3100.0)\n"
     ]
    }
   ],
   "source": [
    "credit_estimate_PHR_tasking_priority(aoi_sqkm)"
   ]
  },
  {
   "cell_type": "code",
   "execution_count": 11,
   "id": "8c91c06b-3cba-4976-a4df-40d2db6f1e94",
   "metadata": {},
   "outputs": [
    {
     "name": "stdout",
     "output_type": "stream",
     "text": [
      "Pleiades Standard Tasking: \n",
      " credits 195500 ($1955.0)\n"
     ]
    }
   ],
   "source": [
    "credit_estimate_PHR_tasking_standard(aoi_sqkm)"
   ]
  },
  {
   "cell_type": "code",
   "execution_count": 12,
   "id": "10fad9ef-091c-4fb5-9626-bdc5067f416b",
   "metadata": {},
   "outputs": [
    {
     "data": {
      "text/plain": [
       "977.5"
      ]
     },
     "execution_count": 12,
     "metadata": {},
     "output_type": "execute_result"
    }
   ],
   "source": [
    "1955/2"
   ]
  },
  {
   "cell_type": "code",
   "execution_count": 7,
   "id": "95e31262-78a1-412d-8dc4-6003f7ae6cb1",
   "metadata": {},
   "outputs": [
    {
     "data": {
      "text/plain": [
       "42000.0"
      ]
     },
     "execution_count": 7,
     "metadata": {},
     "output_type": "execute_result"
    }
   ],
   "source": [
    "# Gesotore or OneAtlas price to UP42 credits\n",
    "\n",
    "quote = 420\n",
    "credits = 420/0.01\n",
    "credits"
   ]
  }
 ],
 "metadata": {
  "kernelspec": {
   "display_name": "Python 3 (ipykernel)",
   "language": "python",
   "name": "python3"
  },
  "language_info": {
   "codemirror_mode": {
    "name": "ipython",
    "version": 3
   },
   "file_extension": ".py",
   "mimetype": "text/x-python",
   "name": "python",
   "nbconvert_exporter": "python",
   "pygments_lexer": "ipython3",
   "version": "3.10.4"
  }
 },
 "nbformat": 4,
 "nbformat_minor": 5
}
